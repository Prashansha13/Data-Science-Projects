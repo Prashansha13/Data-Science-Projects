{
  "nbformat": 4,
  "nbformat_minor": 0,
  "metadata": {
    "colab": {
      "provenance": []
    },
    "kernelspec": {
      "name": "python3",
      "display_name": "Python 3"
    },
    "language_info": {
      "name": "python"
    }
  },
  "cells": [
    {
      "cell_type": "code",
      "execution_count": 4,
      "metadata": {
        "id": "gXtv1ilAHKN8"
      },
      "outputs": [],
      "source": [
        "from nltk.stem import PorterStemmer\n",
        "stemming = PorterStemmer()"
      ]
    },
    {
      "cell_type": "code",
      "source": [
        "words = [\"Eating\", \"eats\", \"Writing\", \"finally\", \"writes\",\"programming\", \"programs\", \"history\", \"finalized\", \"Eaten\"]"
      ],
      "metadata": {
        "id": "9arq8dpyIGUE"
      },
      "execution_count": 5,
      "outputs": []
    },
    {
      "cell_type": "code",
      "source": [
        "for word in words:\n",
        "  print(word +\"---------->\"+ stemming.stem(word))"
      ],
      "metadata": {
        "colab": {
          "base_uri": "https://localhost:8080/"
        },
        "id": "YovUpDMNIaoU",
        "outputId": "24889140-1912-43ee-f77c-0e307e86a70b"
      },
      "execution_count": 6,
      "outputs": [
        {
          "output_type": "stream",
          "name": "stdout",
          "text": [
            "Eating---------->eat\n",
            "eats---------->eat\n",
            "Writing---------->write\n",
            "finally---------->final\n",
            "writes---------->write\n",
            "programming---------->program\n",
            "programs---------->program\n",
            "history---------->histori\n",
            "finalized---------->final\n",
            "Eaten---------->eaten\n"
          ]
        }
      ]
    },
    {
      "cell_type": "code",
      "source": [
        "#Lancaster Stemming Algorithm\n",
        "\n",
        "from nltk.stem import LancasterStemmer\n",
        "Lancaster = LancasterStemmer()\n",
        "\n",
        "for word in words:\n",
        "  print(word +\"---------->\"+ Lancaster.stem(word))"
      ],
      "metadata": {
        "colab": {
          "base_uri": "https://localhost:8080/"
        },
        "id": "6yFCjcoxItj7",
        "outputId": "68c3c792-f826-4850-8070-cb3922af4838"
      },
      "execution_count": 7,
      "outputs": [
        {
          "output_type": "stream",
          "name": "stdout",
          "text": [
            "Eating---------->eat\n",
            "eats---------->eat\n",
            "Writing---------->writ\n",
            "finally---------->fin\n",
            "writes---------->writ\n",
            "programming---------->program\n",
            "programs---------->program\n",
            "history---------->hist\n",
            "finalized---------->fin\n",
            "Eaten---------->eat\n"
          ]
        }
      ]
    },
    {
      "cell_type": "code",
      "source": [
        "## RegexpStemmer class\n",
        "\n",
        "from nltk import RegexpStemmer\n",
        "regexp = RegexpStemmer('ing$|s$|e$|able$', min=4)\n",
        "\n",
        "for word in words:\n",
        "  print(word +\"---------->\"+ regexp.stem(word))\n",
        "\n"
      ],
      "metadata": {
        "colab": {
          "base_uri": "https://localhost:8080/"
        },
        "id": "_6EZ-R9SJ_sJ",
        "outputId": "36fcc6d3-23c6-43f7-d491-cc467b758e5f"
      },
      "execution_count": 9,
      "outputs": [
        {
          "output_type": "stream",
          "name": "stdout",
          "text": [
            "Eating---------->Eat\n",
            "eats---------->eat\n",
            "Writing---------->Writ\n",
            "finally---------->finally\n",
            "writes---------->write\n",
            "programming---------->programm\n",
            "programs---------->program\n",
            "history---------->history\n",
            "finalized---------->finalized\n",
            "Eaten---------->Eaten\n"
          ]
        }
      ]
    },
    {
      "cell_type": "code",
      "source": [
        "## SnowBall Stemmer"
      ],
      "metadata": {
        "id": "Uw5DroqiKnE2"
      },
      "execution_count": 10,
      "outputs": []
    },
    {
      "cell_type": "code",
      "source": [
        "from nltk.stem import SnowballStemmer\n",
        "Snowball = SnowballStemmer('english')\n",
        "\n",
        "for word in words:\n",
        "  print(word +\"---------->\"+ Snowball.stem(word))\n"
      ],
      "metadata": {
        "colab": {
          "base_uri": "https://localhost:8080/"
        },
        "id": "HlWql5CqKq0-",
        "outputId": "c6f37220-59b3-4788-c322-aebb8438c698"
      },
      "execution_count": 11,
      "outputs": [
        {
          "output_type": "stream",
          "name": "stdout",
          "text": [
            "Eating---------->eat\n",
            "eats---------->eat\n",
            "Writing---------->write\n",
            "finally---------->final\n",
            "writes---------->write\n",
            "programming---------->program\n",
            "programs---------->program\n",
            "history---------->histori\n",
            "finalized---------->final\n",
            "Eaten---------->eaten\n"
          ]
        }
      ]
    },
    {
      "cell_type": "code",
      "source": [
        "import nltk\n",
        "nltk.download('wordnet')\n",
        "\n",
        "from nltk.stem import WordNetLemmatizer\n",
        "lemmatizer = WordNetLemmatizer()"
      ],
      "metadata": {
        "colab": {
          "base_uri": "https://localhost:8080/"
        },
        "id": "FPdVSwPsLANC",
        "outputId": "affb4a52-4fb6-4199-c784-e020b01baef6"
      },
      "execution_count": 14,
      "outputs": [
        {
          "output_type": "stream",
          "name": "stdout",
          "text": [
            "Eating---------->Eating\n",
            "eats---------->eat\n",
            "Writing---------->Writing\n",
            "finally---------->finally\n",
            "writes---------->write\n",
            "programming---------->program\n",
            "programs---------->program\n",
            "history---------->history\n",
            "finalized---------->finalize\n",
            "Eaten---------->Eaten\n"
          ]
        },
        {
          "output_type": "stream",
          "name": "stderr",
          "text": [
            "[nltk_data] Downloading package wordnet to /root/nltk_data...\n",
            "[nltk_data]   Package wordnet is already up-to-date!\n"
          ]
        }
      ]
    },
    {
      "cell_type": "code",
      "source": [
        "for word in words:\n",
        "  print(word +\"---------->\"+ lemmatizer.lemmatize(word, pos = 'v'))"
      ],
      "metadata": {
        "colab": {
          "base_uri": "https://localhost:8080/"
        },
        "id": "QmZoK_i7NCtw",
        "outputId": "e5e846b3-df76-4ac0-c469-5432d459a616"
      },
      "execution_count": 15,
      "outputs": [
        {
          "output_type": "stream",
          "name": "stdout",
          "text": [
            "Eating---------->Eating\n",
            "eats---------->eat\n",
            "Writing---------->Writing\n",
            "finally---------->finally\n",
            "writes---------->write\n",
            "programming---------->program\n",
            "programs---------->program\n",
            "history---------->history\n",
            "finalized---------->finalize\n",
            "Eaten---------->Eaten\n"
          ]
        }
      ]
    },
    {
      "cell_type": "code",
      "source": [],
      "metadata": {
        "id": "519HLl6aNMRY"
      },
      "execution_count": null,
      "outputs": []
    }
  ]
}