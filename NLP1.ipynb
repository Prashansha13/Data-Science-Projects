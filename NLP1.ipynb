{
  "nbformat": 4,
  "nbformat_minor": 0,
  "metadata": {
    "colab": {
      "provenance": []
    },
    "kernelspec": {
      "name": "python3",
      "display_name": "Python 3"
    },
    "language_info": {
      "name": "python"
    }
  },
  "cells": [
    {
      "cell_type": "code",
      "execution_count": 7,
      "metadata": {
        "colab": {
          "base_uri": "https://localhost:8080/"
        },
        "id": "9Jd0gws3BQz6",
        "outputId": "75e97ec2-1fd6-4976-816e-8184d87f426b"
      },
      "outputs": [
        {
          "output_type": "stream",
          "name": "stdout",
          "text": [
            "Requirement already satisfied: nltk in /usr/local/lib/python3.10/dist-packages (3.9.1)\n",
            "Requirement already satisfied: click in /usr/local/lib/python3.10/dist-packages (from nltk) (8.1.7)\n",
            "Requirement already satisfied: joblib in /usr/local/lib/python3.10/dist-packages (from nltk) (1.4.2)\n",
            "Requirement already satisfied: regex>=2021.8.3 in /usr/local/lib/python3.10/dist-packages (from nltk) (2024.9.11)\n",
            "Requirement already satisfied: tqdm in /usr/local/lib/python3.10/dist-packages (from nltk) (4.66.6)\n"
          ]
        },
        {
          "output_type": "stream",
          "name": "stderr",
          "text": [
            "[nltk_data] Downloading package punkt_tab to /root/nltk_data...\n",
            "[nltk_data]   Unzipping tokenizers/punkt_tab.zip.\n"
          ]
        },
        {
          "output_type": "execute_result",
          "data": {
            "text/plain": [
              "True"
            ]
          },
          "metadata": {},
          "execution_count": 7
        }
      ],
      "source": [
        "!pip install nltk\n",
        "import nltk\n",
        "nltk.download('punkt_tab')"
      ]
    },
    {
      "cell_type": "code",
      "source": [],
      "metadata": {
        "id": "a3X4wAQ_Gtnm"
      },
      "execution_count": null,
      "outputs": []
    },
    {
      "cell_type": "code",
      "source": [
        "corpus = \"\"\"\n",
        "Generative artificial intelligence (generative AI, GenAI, or GAI) is a subset of artificial intelligence that uses generative models to produce text, images, videos, or other forms of data.\n",
        "These models often generate output in response to specific prompts.\n",
        "Generative AI systems learn the underlying patterns and structures of their training data, enabling them to create new data.\n",
        "\"\"\""
      ],
      "metadata": {
        "id": "4XOVRS8wCS9C"
      },
      "execution_count": 8,
      "outputs": []
    },
    {
      "cell_type": "code",
      "source": [
        "## Paragraph -> Sentence\n",
        "# . and ! (next line)\n",
        "\n",
        "from nltk.tokenize import sent_tokenize\n",
        "sent_tokenize(corpus)"
      ],
      "metadata": {
        "colab": {
          "base_uri": "https://localhost:8080/"
        },
        "id": "jgSJZhVECvlx",
        "outputId": "ab06ed51-24e5-4fd1-c43d-c95d03df35c2"
      },
      "execution_count": 10,
      "outputs": [
        {
          "output_type": "execute_result",
          "data": {
            "text/plain": [
              "['\\nGenerative artificial intelligence (generative AI, GenAI, or GAI) is a subset of artificial intelligence that uses generative models to produce text, images, videos, or other forms of data.',\n",
              " 'These models often generate output in response to specific prompts.',\n",
              " 'Generative AI systems learn the underlying patterns and structures of their training data, enabling them to create new data.']"
            ]
          },
          "metadata": {},
          "execution_count": 10
        }
      ]
    },
    {
      "cell_type": "code",
      "source": [
        "from nltk.tokenize import word_tokenize\n",
        "word_tokenize(corpus)"
      ],
      "metadata": {
        "colab": {
          "base_uri": "https://localhost:8080/"
        },
        "id": "S5vzmGqQDwu3",
        "outputId": "a978c627-5e6b-4584-ef65-19d5efa0c225"
      },
      "execution_count": 11,
      "outputs": [
        {
          "output_type": "execute_result",
          "data": {
            "text/plain": [
              "['Generative',\n",
              " 'artificial',\n",
              " 'intelligence',\n",
              " '(',\n",
              " 'generative',\n",
              " 'AI',\n",
              " ',',\n",
              " 'GenAI',\n",
              " ',',\n",
              " 'or',\n",
              " 'GAI',\n",
              " ')',\n",
              " 'is',\n",
              " 'a',\n",
              " 'subset',\n",
              " 'of',\n",
              " 'artificial',\n",
              " 'intelligence',\n",
              " 'that',\n",
              " 'uses',\n",
              " 'generative',\n",
              " 'models',\n",
              " 'to',\n",
              " 'produce',\n",
              " 'text',\n",
              " ',',\n",
              " 'images',\n",
              " ',',\n",
              " 'videos',\n",
              " ',',\n",
              " 'or',\n",
              " 'other',\n",
              " 'forms',\n",
              " 'of',\n",
              " 'data',\n",
              " '.',\n",
              " 'These',\n",
              " 'models',\n",
              " 'often',\n",
              " 'generate',\n",
              " 'output',\n",
              " 'in',\n",
              " 'response',\n",
              " 'to',\n",
              " 'specific',\n",
              " 'prompts',\n",
              " '.',\n",
              " 'Generative',\n",
              " 'AI',\n",
              " 'systems',\n",
              " 'learn',\n",
              " 'the',\n",
              " 'underlying',\n",
              " 'patterns',\n",
              " 'and',\n",
              " 'structures',\n",
              " 'of',\n",
              " 'their',\n",
              " 'training',\n",
              " 'data',\n",
              " ',',\n",
              " 'enabling',\n",
              " 'them',\n",
              " 'to',\n",
              " 'create',\n",
              " 'new',\n",
              " 'data',\n",
              " '.']"
            ]
          },
          "metadata": {},
          "execution_count": 11
        }
      ]
    },
    {
      "cell_type": "code",
      "source": [
        "from nltk.tokenize import wordpunct_tokenize\n",
        "wordpunct_tokenize(corpus)"
      ],
      "metadata": {
        "colab": {
          "base_uri": "https://localhost:8080/"
        },
        "id": "bqf5BzdpD6pf",
        "outputId": "db568257-a66e-48de-bd82-5f88c9fc914f"
      },
      "execution_count": 13,
      "outputs": [
        {
          "output_type": "execute_result",
          "data": {
            "text/plain": [
              "['Generative',\n",
              " 'artificial',\n",
              " 'intelligence',\n",
              " '(',\n",
              " 'generative',\n",
              " 'AI',\n",
              " ',',\n",
              " 'GenAI',\n",
              " ',',\n",
              " 'or',\n",
              " 'GAI',\n",
              " ')',\n",
              " 'is',\n",
              " 'a',\n",
              " 'subset',\n",
              " 'of',\n",
              " 'artificial',\n",
              " 'intelligence',\n",
              " 'that',\n",
              " 'uses',\n",
              " 'generative',\n",
              " 'models',\n",
              " 'to',\n",
              " 'produce',\n",
              " 'text',\n",
              " ',',\n",
              " 'images',\n",
              " ',',\n",
              " 'videos',\n",
              " ',',\n",
              " 'or',\n",
              " 'other',\n",
              " 'forms',\n",
              " 'of',\n",
              " 'data',\n",
              " '.',\n",
              " 'These',\n",
              " 'models',\n",
              " 'often',\n",
              " 'generate',\n",
              " 'output',\n",
              " 'in',\n",
              " 'response',\n",
              " 'to',\n",
              " 'specific',\n",
              " 'prompts',\n",
              " '.',\n",
              " 'Generative',\n",
              " 'AI',\n",
              " 'systems',\n",
              " 'learn',\n",
              " 'the',\n",
              " 'underlying',\n",
              " 'patterns',\n",
              " 'and',\n",
              " 'structures',\n",
              " 'of',\n",
              " 'their',\n",
              " 'training',\n",
              " 'data',\n",
              " ',',\n",
              " 'enabling',\n",
              " 'them',\n",
              " 'to',\n",
              " 'create',\n",
              " 'new',\n",
              " 'data',\n",
              " '.']"
            ]
          },
          "metadata": {},
          "execution_count": 13
        }
      ]
    },
    {
      "cell_type": "code",
      "source": [
        "from nltk.tokenize import TreebankWordTokenizer\n",
        "tokenizer = TreebankWordTokenizer()\n",
        "tokenizer.tokenize(corpus)"
      ],
      "metadata": {
        "colab": {
          "base_uri": "https://localhost:8080/"
        },
        "id": "NoWGgv2hEXAs",
        "outputId": "4bec9ecb-df9e-4bd9-b9be-7c6c0e053785"
      },
      "execution_count": 16,
      "outputs": [
        {
          "output_type": "execute_result",
          "data": {
            "text/plain": [
              "['Generative',\n",
              " 'artificial',\n",
              " 'intelligence',\n",
              " '(',\n",
              " 'generative',\n",
              " 'AI',\n",
              " ',',\n",
              " 'GenAI',\n",
              " ',',\n",
              " 'or',\n",
              " 'GAI',\n",
              " ')',\n",
              " 'is',\n",
              " 'a',\n",
              " 'subset',\n",
              " 'of',\n",
              " 'artificial',\n",
              " 'intelligence',\n",
              " 'that',\n",
              " 'uses',\n",
              " 'generative',\n",
              " 'models',\n",
              " 'to',\n",
              " 'produce',\n",
              " 'text',\n",
              " ',',\n",
              " 'images',\n",
              " ',',\n",
              " 'videos',\n",
              " ',',\n",
              " 'or',\n",
              " 'other',\n",
              " 'forms',\n",
              " 'of',\n",
              " 'data.',\n",
              " 'These',\n",
              " 'models',\n",
              " 'often',\n",
              " 'generate',\n",
              " 'output',\n",
              " 'in',\n",
              " 'response',\n",
              " 'to',\n",
              " 'specific',\n",
              " 'prompts.',\n",
              " 'Generative',\n",
              " 'AI',\n",
              " 'systems',\n",
              " 'learn',\n",
              " 'the',\n",
              " 'underlying',\n",
              " 'patterns',\n",
              " 'and',\n",
              " 'structures',\n",
              " 'of',\n",
              " 'their',\n",
              " 'training',\n",
              " 'data',\n",
              " ',',\n",
              " 'enabling',\n",
              " 'them',\n",
              " 'to',\n",
              " 'create',\n",
              " 'new',\n",
              " 'data',\n",
              " '.']"
            ]
          },
          "metadata": {},
          "execution_count": 16
        }
      ]
    }
  ]
}